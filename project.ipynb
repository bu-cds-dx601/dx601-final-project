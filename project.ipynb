{
 "cells": [
  {
   "cell_type": "markdown",
   "metadata": {},
   "source": [
    "# DX 601 Final Project"
   ]
  },
  {
   "cell_type": "markdown",
   "metadata": {},
   "source": [
    "## Introduction\n",
    "\n",
    "In this project, you will practice all the skills that you have learned throughout this module.\n",
    "You will pick a data set to analyze from a list provided, and then perform a variety of analysis.\n",
    "Most of the problems and questions are open ended compared to your previous homeworks, and you will be asked to explain your choices.\n",
    "Most of them will have a particular type of solution implied, but it is up to you to figure out the details based on what you have learned in this module."
   ]
  },
  {
   "cell_type": "markdown",
   "metadata": {},
   "source": [
    "## Instructions\n",
    "\n",
    "Each problem asks you to perform some analysis of the data, and usually answer some questions about the results.\n",
    "Make sure that your question answers are well supported by your analysis and explanations; simply stating an answer without support will earn minimal points.\n",
    "\n",
    "Notebook cells for code and text have been added for your convenience, but feel free to add additional cells."
   ]
  },
  {
   "cell_type": "markdown",
   "metadata": {},
   "source": [
    "## Example Code\n",
    "\n",
    "You may find it helpful to refer to this GitHub repository of Jupyter notebooks for example code.\n",
    "\n",
    "* https://github.com/bu-cds-omds/dx500-examples\n",
    "* https://github.com/bu-cds-omds/dx601-examples\n",
    "* https://github.com/bu-cds-omds/dx602-examples\n",
    "\n",
    "Any calculations demonstrated in code examples or videos may be found in these notebooks, and you are allowed to copy this example code in your homework answers."
   ]
  },
  {
   "cell_type": "markdown",
   "metadata": {},
   "source": [
    "## Submission\n",
    "\n",
    "To submit your homework, take the following steps.\n",
    "\n",
    "1. Save and commit this notebook.\n",
    "2. Push your changes to GitHub.\n",
    "3. Confirm that your changes are visible in GitHub.\n",
    "4. Delete the codespace to avoid wasting your free quota.\n",
    "\n",
    "This project will be entirely manually graded.\n",
    "However, we may rerun some or all of your code to confirm that it works as described."
   ]
  },
  {
   "cell_type": "markdown",
   "metadata": {},
   "source": [
    "### Late Policy\n",
    "\n",
    "The normal homework late policy for OMDS does not apply to this project.\n",
    "Boston University requires final grades to be submitted within 72 hours of class instruction ending, so we cannot accommodate 5 days of late submissions.\n",
    "\n",
    "However, we have delayed the due date of this project to be substantially later than necessary given its scope, and given you more days for submission with full credit than you would have had days for submission with partial credit under the homework late policy.\n",
    "Finally, the deadlines for DX 601 and DX 602 were coordinated to be a week apart while giving ample time for both of their projects."
   ]
  },
  {
   "cell_type": "markdown",
   "metadata": {},
   "source": [
    "## Shared Imports\n",
    "\n",
    "For this project, you are forbidden to use modules that were not loaded in this template.\n",
    "While other modules are handy in practice, modules that trivialize these problems interfere with our assessment of your own knowledge and skills.\n",
    "\n",
    "If you believe a module covered in the course material (not live sessions) is missing, please check with your learning facilitator."
   ]
  },
  {
   "cell_type": "code",
   "execution_count": 1,
   "metadata": {},
   "outputs": [],
   "source": [
    "import math\n",
    "import sys"
   ]
  },
  {
   "cell_type": "code",
   "execution_count": 2,
   "metadata": {},
   "outputs": [],
   "source": [
    "import matplotlib.pyplot as plt\n",
    "import numpy as np\n",
    "import pandas as pd\n",
    "import scipy.stats\n",
    "import sklearn.linear_model"
   ]
  },
  {
   "cell_type": "markdown",
   "metadata": {},
   "source": [
    "## Problems"
   ]
  },
  {
   "cell_type": "markdown",
   "metadata": {},
   "source": [
    "### Problem 1 (5 points)\n",
    "\n",
    "Pick one of the following data sets to analyze in this project.\n",
    "Load the data set, and show a random sample of 10 rows.\n",
    "\n",
    "* [Iris data set](https://archive.ics.uci.edu/dataset/53/iris) ([PMLB copy](https://github.com/EpistasisLab/pmlb/tree/master/datasets/iris))\n",
    "* [Breast Cancer Wisconsin](https://archive.ics.uci.edu/dataset/17/breast+cancer+wisconsin+diagnostic) ([PMLB copy](https://github.com/EpistasisLab/pmlb/tree/master/datasets/_deprecated_breast_cancer_wisconsin))\n",
    "* [Wine Quality](https://archive.ics.uci.edu/dataset/186/wine+quality) ([PMLB - white subset only](https://github.com/EpistasisLab/pmlb/tree/master/datasets/wine_quality_white))\n",
    "\n",
    "\n",
    "The PMLB copies of the data are generally cleaner and recommended for this project, but the other links are provided to give you more context.\n",
    "To load the data from the PMLB Github repository, navigate to the `.tsv.gz` file in GitHub and copy the link from the \"Raw\" button.\n",
    "\n",
    "If the data set you choose has more than ten columns, you may limit later analysis that is requested per column to just the first ten columns."
   ]
  },
  {
   "cell_type": "code",
   "execution_count": null,
   "metadata": {},
   "outputs": [],
   "source": [
    "# YOUR CODE HERE"
   ]
  },
  {
   "cell_type": "markdown",
   "metadata": {},
   "source": [
    "YOUR ANSWERS HERE"
   ]
  },
  {
   "cell_type": "markdown",
   "metadata": {},
   "source": [
    "### Problem 2 (10 points)\n",
    "\n",
    "List all the columns in the data set, and describe each of them in your own words.\n",
    "You may have to search to learn about the data set columns, but make sure that the descriptions are your own words."
   ]
  },
  {
   "cell_type": "code",
   "execution_count": null,
   "metadata": {},
   "outputs": [],
   "source": [
    "# YOUR CODE HERE"
   ]
  },
  {
   "cell_type": "markdown",
   "metadata": {},
   "source": [
    "YOUR ANSWERS HERE"
   ]
  },
  {
   "cell_type": "markdown",
   "metadata": {},
   "source": [
    "### Problem 3 (15 points)\n",
    "\n",
    "Plot histograms of each column.\n",
    "For each column, state the distribution covered in this module that you think best matches that column."
   ]
  },
  {
   "cell_type": "code",
   "execution_count": null,
   "metadata": {},
   "outputs": [],
   "source": [
    "# YOUR CODE HERE"
   ]
  },
  {
   "cell_type": "markdown",
   "metadata": {},
   "source": [
    "YOUR ANSWERS HERE"
   ]
  },
  {
   "cell_type": "markdown",
   "metadata": {},
   "source": [
    "### Problem 4 (20 points)\n",
    "\n",
    "Plot each pair of an input column and the output column.\n",
    "Classify each pair of input column and the output column as being independent or not.\n",
    "Describe in words why you think that was the case."
   ]
  },
  {
   "cell_type": "code",
   "execution_count": null,
   "metadata": {},
   "outputs": [],
   "source": [
    "# YOUR CODE HERE"
   ]
  },
  {
   "cell_type": "markdown",
   "metadata": {},
   "source": [
    "YOUR ANSWERS HERE"
   ]
  },
  {
   "cell_type": "markdown",
   "metadata": {},
   "source": [
    "### Problem 5 (20 points)\n",
    "\n",
    "Build an ordinary least squares regression for the target using all the input columns.\n",
    "Report the average loss of the model over the whole data set.\n",
    "Plot the actual values vs the predicted outputs to compare them. "
   ]
  },
  {
   "cell_type": "code",
   "execution_count": null,
   "metadata": {},
   "outputs": [],
   "source": [
    "# YOUR CODE HERE"
   ]
  },
  {
   "cell_type": "markdown",
   "metadata": {},
   "source": [
    "YOUR ANSWERS HERE"
   ]
  },
  {
   "cell_type": "markdown",
   "metadata": {},
   "source": [
    "### Problem 6 (20 points)\n",
    "\n",
    "Which input column gives the best linear model of the target on its own?\n",
    "How does that model compare to the model in problem 5?\n"
   ]
  },
  {
   "cell_type": "code",
   "execution_count": null,
   "metadata": {},
   "outputs": [],
   "source": [
    "# YOUR CODE HERE"
   ]
  },
  {
   "cell_type": "markdown",
   "metadata": {},
   "source": [
    "YOUR ANSWERS HERE"
   ]
  },
  {
   "cell_type": "markdown",
   "metadata": {},
   "source": [
    "### Problem 7 (20 points)\n",
    "\n",
    "Pick and plot a pair of input columns with a visible dependency.\n",
    "Identify a split of the values of one column illustrating the dependency and plot histograms of the other variable on both sides of the split."
   ]
  },
  {
   "cell_type": "code",
   "execution_count": null,
   "metadata": {},
   "outputs": [],
   "source": [
    "# YOUR CODE HERE"
   ]
  },
  {
   "cell_type": "markdown",
   "metadata": {},
   "source": [
    "YOUR ANSWERS HERE"
   ]
  },
  {
   "cell_type": "markdown",
   "metadata": {},
   "source": [
    "### Problem 8 (40 points)\n",
    "\n",
    "Perform principal components analysis of the input columns.\n",
    "Compute how much of the data variation is explained by the first half of the principal components.\n",
    "Build a linear regression using coordinates computed from the first half of the principal components.\n",
    "Compare the average training loss of this model to the previous model.\n",
    "Plot actual targets vs predictions again. \n",
    "\n",
    "This problem depends on material from week 13."
   ]
  },
  {
   "cell_type": "code",
   "execution_count": null,
   "metadata": {},
   "outputs": [],
   "source": [
    "# YOUR CODE HERE"
   ]
  },
  {
   "cell_type": "markdown",
   "metadata": {},
   "source": [
    "YOUR ANSWERS HERE"
   ]
  },
  {
   "cell_type": "markdown",
   "metadata": {},
   "source": [
    "### Problem 9 (20 points)\n",
    "\n",
    "What pair of input columns has the highest correlation?\n",
    "How is that correlation reflected in the principal components?"
   ]
  },
  {
   "cell_type": "code",
   "execution_count": null,
   "metadata": {},
   "outputs": [],
   "source": [
    "# YOUR CODE HERE"
   ]
  },
  {
   "cell_type": "markdown",
   "metadata": {},
   "source": [
    "YOUR ANSWERS HERE"
   ]
  },
  {
   "cell_type": "markdown",
   "metadata": {},
   "source": [
    "### Problem 10 (30 points)\n",
    "\n",
    "Identify an outlier row in the data set.\n",
    "You may use any criteria you like, but you must explain the criteria and how it led to picking this row.\n",
    "Give a visualization showing how much this row sticks out compared to the other data based on your criteria."
   ]
  },
  {
   "cell_type": "code",
   "execution_count": null,
   "metadata": {},
   "outputs": [],
   "source": [
    "# YOUR CODE HERE"
   ]
  },
  {
   "cell_type": "markdown",
   "metadata": {},
   "source": [
    "YOUR ANSWERS HERE"
   ]
  },
  {
   "cell_type": "markdown",
   "metadata": {},
   "source": [
    "### Generative AI Usage\n",
    "\n",
    "If you used any generative AI tools, please add links to your transcripts below, and any other information that you feel is necessary to comply with the [generative AI policy](https://www.bu.edu/cds-faculty/culture-community/gaia-policy/).\n",
    "If you did not use any generative AI tools, simply write NONE below."
   ]
  },
  {
   "cell_type": "markdown",
   "metadata": {},
   "source": [
    "YOUR ANSWER HERE"
   ]
  }
 ],
 "metadata": {
  "kernelspec": {
   "display_name": "Python 3",
   "language": "python",
   "name": "python3"
  },
  "language_info": {
   "codemirror_mode": {
    "name": "ipython",
    "version": 3
   },
   "file_extension": ".py",
   "mimetype": "text/x-python",
   "name": "python",
   "nbconvert_exporter": "python",
   "pygments_lexer": "ipython3",
   "version": "3.13.0"
  }
 },
 "nbformat": 4,
 "nbformat_minor": 2
}
